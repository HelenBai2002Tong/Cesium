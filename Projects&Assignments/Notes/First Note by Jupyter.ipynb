{
 "cells": [
  {
   "cell_type": "markdown",
   "metadata": {},
   "source": [
    "# What will we learn\n",
    "\n",
    "computational modes of thinking\n",
    "\n",
    "art of computational problem solving\n",
    "\n",
    "**what does a computer do**\n",
    "\n",
    "calculates and remembers the results\n",
    "\n",
    "**the importance of algorithm**\n",
    "\n",
    "perform qucikly\n",
    "\n",
    "**declarative knowledge**--statement of fact\n",
    "**imperative knowledge**--how to \n",
    "\n",
    "**computers are machines**\n",
    "\n",
    "- a) fixed program - calculator\n",
    "- b) stored program - machine stores and executes instructions\n",
    "\n"
   ]
  },
  {
   "cell_type": "code",
   "execution_count": 7,
   "metadata": {},
   "outputs": [
    {
     "name": "stdout",
     "output_type": "stream",
     "text": [
      "the number:16\n",
      "your guess:3\n",
      "4.000000000000241\n"
     ]
    }
   ],
   "source": [
    "number=eval(input(\"the number:\"))\n",
    "guessnumber=eval(input(\"your guess:\"))\n",
    "def guess(number,guessnumber):\n",
    "    while True:\n",
    "        if abs(guessnumber**2-number) < 10**(-6):\n",
    "            return guessnumber\n",
    "        else:\n",
    "            guessnumber=(guessnumber+number/guessnumber)*0.5\n",
    "            continue\n",
    "    \n",
    "print(guess(number,guessnumber))  "
   ]
  },
  {
   "cell_type": "code",
   "execution_count": null,
   "metadata": {},
   "outputs": [],
   "source": []
  }
 ],
 "metadata": {
  "kernelspec": {
   "display_name": "Python 3",
   "language": "python",
   "name": "python3"
  },
  "language_info": {
   "codemirror_mode": {
    "name": "ipython",
    "version": 3
   },
   "file_extension": ".py",
   "mimetype": "text/x-python",
   "name": "python",
   "nbconvert_exporter": "python",
   "pygments_lexer": "ipython3",
   "version": "3.6.5"
  }
 },
 "nbformat": 4,
 "nbformat_minor": 2
}
