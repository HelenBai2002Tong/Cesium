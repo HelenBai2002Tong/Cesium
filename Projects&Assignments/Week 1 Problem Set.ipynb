{
 "cells": [
  {
   "cell_type": "markdown",
   "metadata": {},
   "source": [
    "## Problem set"
   ]
  },
  {
   "cell_type": "markdown",
   "metadata": {},
   "source": [
    "### Q1"
   ]
  },
  {
   "cell_type": "code",
   "execution_count": null,
   "metadata": {},
   "outputs": [],
   "source": [
    "list_vowels=[\"a\",'e','i','o','u']\n",
    "count=0\n",
    "for i in s:\n",
    "    if i in list_vowels:\n",
    "        count+=1\n",
    "print(\"Number of vowels:\",count)"
   ]
  },
  {
   "cell_type": "markdown",
   "metadata": {},
   "source": [
    "### Q2"
   ]
  },
  {
   "cell_type": "code",
   "execution_count": null,
   "metadata": {},
   "outputs": [],
   "source": [
    "count=0\n",
    "for i in range(len(s)-2):\n",
    "    for j in range(2,len(s)+1):\n",
    "        if s[i:j]==\"bob\":\n",
    "            count+=1\n",
    "print(\"Number of times bob occurs is:\",count)            "
   ]
  },
  {
   "cell_type": "markdown",
   "metadata": {},
   "source": [
    "### Q3"
   ]
  },
  {
   "cell_type": "code",
   "execution_count": null,
   "metadata": {},
   "outputs": [],
   "source": [
    "a=[]\n",
    "for i in s:\n",
    "    a.append(ord(i))\n",
    "k=0\n",
    "b=0\n",
    "c=0\n",
    "for i in range (len(a)):\n",
    "    for j in range (len(a)+1):\n",
    "        d=a[i:j]\n",
    "        d.sort()\n",
    "        if d==a[i:j]:\n",
    "            if j-i>k:\n",
    "                k=j-i\n",
    "                b=i\n",
    "                c=j\n",
    "print(\"Longest substring in alphabetical order is:\",s[b:c])"
   ]
  }
 ],
 "metadata": {
  "kernelspec": {
   "display_name": "Python 3",
   "language": "python",
   "name": "python3"
  }
 },
 "nbformat": 4,
 "nbformat_minor": 2
}
